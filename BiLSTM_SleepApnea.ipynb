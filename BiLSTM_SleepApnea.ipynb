{
 "cells": [
  {
   "cell_type": "code",
   "execution_count": 1,
   "metadata": {},
   "outputs": [
    {
     "name": "stdout",
     "output_type": "stream",
     "text": [
      "2.8.0\n",
      "Num GPUs Available:  1\n"
     ]
    }
   ],
   "source": [
    "import tensorflow as tf\n",
    "from scipy.io import loadmat\n",
    "from tensorflow.keras import Sequential\n",
    "from tensorflow.keras.layers import Bidirectional, LSTM, Dense, Activation, BatchNormalization, Dropout, Reshape\n",
    "print(tf.__version__)\n",
    "print(\"Num GPUs Available: \", len(tf.config.experimental.list_physical_devices('GPU')))\n",
    "\n",
    "\n",
    "from sklearn.model_selection import train_test_split\n",
    "from imblearn.over_sampling import ADASYN\n",
    "\n",
    "# Helper libraries\n",
    "import numpy as np\n",
    "import matplotlib.pyplot as plt\n",
    "%matplotlib inline\n",
    "from scipy.io import loadmat\n",
    "from sklearn import metrics\n",
    "from sklearn.metrics import confusion_matrix\n",
    "import seaborn as sn\n",
    "import collections\n",
    "import pandas as pd \n",
    "import os"
   ]
  },
  {
   "cell_type": "markdown",
   "metadata": {},
   "source": [
    "# 加载原始数据"
   ]
  },
  {
   "cell_type": "code",
   "execution_count": 2,
   "metadata": {},
   "outputs": [
    {
     "data": {
      "text/plain": [
       "((51198, 180), (5947, 180), (5948, 180))"
      ]
     },
     "execution_count": 2,
     "metadata": {},
     "output_type": "execute_result"
    }
   ],
   "source": [
    "file = r'./Data_set/win_9_overlap_4.5.mat'\n",
    "data = loadmat(file, mat_dtype=True)\n",
    "motion_py1 = data['out_feature']\n",
    "x = motion_py1[:,0:180]\n",
    "y = motion_py1[:,180]\n",
    "y = y.astype(int)\n",
    "\n",
    "\n",
    "num_classes = 2\n",
    "X_train_a, X_test_a, y_train_a, y_test_a = train_test_split(x, y, test_size = 0.30, random_state = 50)\n",
    "X_test, X_val, label_test, label_val = train_test_split(X_test_a, y_test_a, test_size = 0.50, random_state = 50)\n",
    "X_train, label_train = ADASYN().fit_resample(X_train_a, y_train_a)\n",
    "# X_train, label_train = X_train_a, y_train_a\n",
    "\n",
    "y_train = tf.keras.utils.to_categorical(label_train,num_classes)\n",
    "y_test = tf.keras.utils.to_categorical(label_test,num_classes)\n",
    "y_val = tf.keras.utils.to_categorical(label_val,num_classes)\n",
    "X_train.shape, X_test.shape, X_val.shape"
   ]
  },
  {
   "cell_type": "code",
   "execution_count": 3,
   "metadata": {},
   "outputs": [
    {
     "name": "stdout",
     "output_type": "stream",
     "text": [
      "Model: \"sequential\"\n",
      "_________________________________________________________________\n",
      " Layer (type)                Output Shape              Param #   \n",
      "=================================================================\n",
      " bidirectional (Bidirectiona  (None, 180, 128)         33792     \n",
      " l)                                                              \n",
      "                                                                 \n",
      " bidirectional_1 (Bidirectio  (None, 128)              98816     \n",
      " nal)                                                            \n",
      "                                                                 \n",
      " dense (Dense)               (None, 2)                 258       \n",
      "                                                                 \n",
      "=================================================================\n",
      "Total params: 132,866\n",
      "Trainable params: 132,866\n",
      "Non-trainable params: 0\n",
      "_________________________________________________________________\n"
     ]
    }
   ],
   "source": [
    "Time_period = 180\n",
    "num_channels = 1\n",
    "input_shape = (Time_period, num_channels)\n",
    "model = Sequential()\n",
    "model.add(Bidirectional(LSTM(64, return_sequences=True, activation = tf.nn.tanh), input_shape=input_shape))\n",
    "model.add(Bidirectional(LSTM(64, activation = tf.nn.tanh)))\n",
    "# model.add(Dense(64, activation=tf.nn.tanh))\n",
    "# model.add(BatchNormalization())\n",
    "model.add(Dense(num_classes, activation=tf.nn.softmax))\n",
    "model.summary()"
   ]
  },
  {
   "cell_type": "code",
   "execution_count": 4,
   "metadata": {},
   "outputs": [],
   "source": [
    "initial_learning_rate = 1e-3\n",
    "\n",
    "batch_size = 128\n",
    "\n",
    "Epoch = 100\n",
    "\n",
    "early_stopping = tf.keras.callbacks.EarlyStopping(monitor='val_loss', patience=20)\n",
    "\n",
    "model.compile(\n",
    "            loss = tf.keras.losses.BinaryFocalCrossentropy(),\n",
    "#             loss = 'categorical_crossentropy',\n",
    "            optimizer = tf.keras.optimizers.Adam(learning_rate=initial_learning_rate),\n",
    "            metrics=['accuracy'])"
   ]
  },
  {
   "cell_type": "code",
   "execution_count": 5,
   "metadata": {},
   "outputs": [
    {
     "name": "stdout",
     "output_type": "stream",
     "text": [
      "Epoch 1/100\n",
      "400/400 [==============================] - 39s 82ms/step - loss: 0.1733 - accuracy: 0.5314 - val_loss: 0.1770 - val_accuracy: 0.2656\n",
      "Epoch 2/100\n",
      "400/400 [==============================] - 31s 78ms/step - loss: 0.1716 - accuracy: 0.5328 - val_loss: 0.1760 - val_accuracy: 0.6587\n",
      "Epoch 3/100\n",
      "400/400 [==============================] - 30s 76ms/step - loss: 0.1715 - accuracy: 0.5263 - val_loss: 0.1627 - val_accuracy: 0.8302\n",
      "Epoch 4/100\n",
      "400/400 [==============================] - 30s 76ms/step - loss: 0.1711 - accuracy: 0.5310 - val_loss: 0.1553 - val_accuracy: 0.9092\n",
      "Epoch 5/100\n",
      "400/400 [==============================] - 31s 78ms/step - loss: 0.1713 - accuracy: 0.5260 - val_loss: 0.1472 - val_accuracy: 0.9122\n",
      "Epoch 6/100\n",
      "400/400 [==============================] - 30s 75ms/step - loss: 0.1710 - accuracy: 0.5325 - val_loss: 0.1699 - val_accuracy: 0.8462\n",
      "Epoch 7/100\n",
      "400/400 [==============================] - 30s 75ms/step - loss: 0.1709 - accuracy: 0.5307 - val_loss: 0.1647 - val_accuracy: 0.8684\n",
      "Epoch 8/100\n",
      "400/400 [==============================] - 30s 75ms/step - loss: 0.1707 - accuracy: 0.5367 - val_loss: 0.1635 - val_accuracy: 0.7209\n",
      "Epoch 9/100\n",
      "400/400 [==============================] - 31s 76ms/step - loss: 0.1707 - accuracy: 0.5288 - val_loss: 0.1613 - val_accuracy: 0.9109\n",
      "Epoch 10/100\n",
      "400/400 [==============================] - 30s 76ms/step - loss: 0.1707 - accuracy: 0.5354 - val_loss: 0.1640 - val_accuracy: 0.7561\n",
      "Epoch 11/100\n",
      "400/400 [==============================] - 30s 75ms/step - loss: 0.1703 - accuracy: 0.5373 - val_loss: 0.1639 - val_accuracy: 0.9040\n",
      "Epoch 12/100\n",
      "400/400 [==============================] - 29s 72ms/step - loss: 0.1708 - accuracy: 0.5274 - val_loss: 0.1639 - val_accuracy: 0.9023\n",
      "Epoch 13/100\n",
      "400/400 [==============================] - 30s 74ms/step - loss: 0.1705 - accuracy: 0.5303 - val_loss: 0.1680 - val_accuracy: 0.2668\n",
      "Epoch 14/100\n",
      "400/400 [==============================] - 28s 70ms/step - loss: 0.1706 - accuracy: 0.5269 - val_loss: 0.1717 - val_accuracy: 0.9045\n",
      "Epoch 15/100\n",
      "400/400 [==============================] - 30s 75ms/step - loss: 0.1705 - accuracy: 0.5313 - val_loss: 0.1857 - val_accuracy: 0.2678\n",
      "Epoch 16/100\n",
      "400/400 [==============================] - 28s 71ms/step - loss: 0.1703 - accuracy: 0.5370 - val_loss: 0.1682 - val_accuracy: 0.8003\n",
      "Epoch 17/100\n",
      "400/400 [==============================] - 28s 70ms/step - loss: 0.1703 - accuracy: 0.5299 - val_loss: 0.1638 - val_accuracy: 0.8823\n",
      "Epoch 18/100\n",
      "400/400 [==============================] - 26s 64ms/step - loss: 0.1701 - accuracy: 0.5411 - val_loss: 0.1768 - val_accuracy: 0.4980\n",
      "Epoch 19/100\n",
      "400/400 [==============================] - 27s 67ms/step - loss: 0.1689 - accuracy: 0.5739 - val_loss: 0.1778 - val_accuracy: 0.7002\n",
      "Epoch 20/100\n",
      "400/400 [==============================] - 28s 71ms/step - loss: 0.1681 - accuracy: 0.5792 - val_loss: 0.1706 - val_accuracy: 0.6710\n",
      "Epoch 21/100\n",
      "400/400 [==============================] - 26s 65ms/step - loss: 0.1703 - accuracy: 0.5362 - val_loss: 0.1692 - val_accuracy: 0.8551\n",
      "Epoch 22/100\n",
      "400/400 [==============================] - 26s 66ms/step - loss: 0.1692 - accuracy: 0.5561 - val_loss: 0.1752 - val_accuracy: 0.4565\n",
      "Epoch 23/100\n",
      "400/400 [==============================] - 27s 68ms/step - loss: 0.1673 - accuracy: 0.5918 - val_loss: 0.1579 - val_accuracy: 0.6121\n",
      "Epoch 24/100\n",
      "400/400 [==============================] - 27s 66ms/step - loss: 0.1696 - accuracy: 0.5511 - val_loss: 0.1745 - val_accuracy: 0.8690\n",
      "Epoch 25/100\n",
      "400/400 [==============================] - 26s 65ms/step - loss: 0.1702 - accuracy: 0.5313 - val_loss: 0.1654 - val_accuracy: 0.9022\n"
     ]
    }
   ],
   "source": [
    "history = model.fit(  \n",
    "    X_train,\n",
    "    y_train,\n",
    "    batch_size = batch_size,\n",
    "    # 这个是指模型只迭代一次\n",
    "    epochs = Epoch,\n",
    "    validation_data = (X_val, y_val),\n",
    "    callbacks=[early_stopping])"
   ]
  },
  {
   "cell_type": "code",
   "execution_count": 6,
   "metadata": {},
   "outputs": [],
   "source": [
    "y_pre = np.argmax(model.predict(X_test), axis=-1)\n",
    "y_pre = y_pre.astype(int)\n",
    "accuracy = metrics.accuracy_score(label_test, y_pre)  # 计算准确度\n",
    "kappa = metrics.cohen_kappa_score(label_test, y_pre)  # 计算kappa\n",
    "f1_score = metrics.f1_score(label_test, y_pre, average='macro')"
   ]
  },
  {
   "cell_type": "code",
   "execution_count": 7,
   "metadata": {},
   "outputs": [
    {
     "name": "stdout",
     "output_type": "stream",
     "text": [
      "Test accuracy: 0.901967\n",
      "Kappa: 0.064037\n",
      "F1-score: 0.530376\n"
     ]
    }
   ],
   "source": [
    "print(\"Test accuracy: {:.6f}\".format(accuracy))\n",
    "print(\"Kappa: {:.6f}\".format(kappa))\n",
    "print(\"F1-score: {:.6f}\".format(f1_score))"
   ]
  },
  {
   "cell_type": "code",
   "execution_count": 8,
   "metadata": {},
   "outputs": [
    {
     "name": "stdout",
     "output_type": "stream",
     "text": [
      "[[5327  211]\n",
      " [ 372   37]]\n",
      "Accuracy: 0.9019673785101732\n",
      "Sensitivity: 0.09046454767726161\n",
      "Specificity: 0.9618996027446731\n",
      "Kappa: 0.064037\n",
      "F1-score: 0.530376\n"
     ]
    },
    {
     "data": {
      "image/png": "[encoded data removed]",
      "text/plain": [
       "<Figure size 432x288 with 2 Axes>"
      ]
     },
     "metadata": {
      "needs_background": "light"
     },
     "output_type": "display_data"
    }
   ],
   "source": [
    "# Making the Confusion Matrix\n",
    "cm = confusion_matrix(label_test, y_pre)\n",
    "print(cm)\n",
    "TP = cm[1, 1]\n",
    "TN = cm[0, 0]\n",
    "FP = cm[0, 1]\n",
    "FN = cm[1, 0]\n",
    "print('Accuracy:',(TP+TN) / float(TP+TN+FP+FN))\n",
    "print('Sensitivity:',TP / float(TP+FN))\n",
    "print('Specificity:',TN / float(TN+FP))\n",
    "kappa = metrics.cohen_kappa_score(label_test, y_pre)  # 计算kappa\n",
    "f1_score = metrics.f1_score(label_test, y_pre, average='macro')\n",
    "print(\"Kappa: {:.6f}\".format(kappa))\n",
    "print(\"F1-score: {:.6f}\".format(f1_score))\n",
    "\n",
    "df=pd.DataFrame(cm)\n",
    "sn.heatmap(df,fmt='g',annot=True,cmap='Blues')\n",
    "plt.show()"
   ]
  },
  {
   "cell_type": "code",
   "execution_count": null,
   "metadata": {},
   "outputs": [],
   "source": []
  }
 ],
 "metadata": {
  "kernelspec": {
   "display_name": "Python 3 (ipykernel)",
   "language": "python",
   "name": "python3"
  },
  "language_info": {
   "codemirror_mode": {
    "name": "ipython",
    "version": 3
   },
   "file_extension": ".py",
   "mimetype": "text/x-python",
   "name": "python",
   "nbconvert_exporter": "python",
   "pygments_lexer": "ipython3",
   "version": "3.9.12"
  },
  "latex_envs": {
   "LaTeX_envs_menu_present": true,
   "autoclose": false,
   "autocomplete": true,
   "bibliofile": "biblio.bib",
   "cite_by": "apalike",
   "current_citInitial": 1,
   "eqLabelWithNumbers": true,
   "eqNumInitial": 1,
   "hotkeys": {
    "equation": "Ctrl-E",
    "itemize": "Ctrl-I"
   },
   "labels_anchors": false,
   "latex_user_defs": false,
   "report_style_numbering": false,
   "user_envs_cfg": false
  },
  "nbTranslate": {
   "displayLangs": [
    "*"
   ],
   "hotkey": "alt-t",
   "langInMainMenu": true,
   "sourceLang": "en",
   "targetLang": "fr",
   "useGoogleTranslate": true
  }
 },
 "nbformat": 4,
 "nbformat_minor": 2
}
